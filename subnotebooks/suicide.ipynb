{
 "cells": [
  {
   "cell_type": "markdown",
   "id": "818de016-caa4-410e-bba8-73b866bf23c2",
   "metadata": {},
   "source": [
    " ## Correlative Nature of Risk Factors in Suicide"
   ]
  },
  {
   "cell_type": "code",
   "execution_count": null,
   "id": "4970c21f-c3e4-42d5-8e8d-596f0c3d3bf1",
   "metadata": {},
   "outputs": [],
   "source": [
    "import matplotlib.pyplot as plt\n",
    "import numpy as np\n",
    "import pandas as pd\n",
    "import scipy.stats as stats\n",
    "import statsmodels.api as sm\n",
    "from sklearn.cluster import KMeans as km\n",
    "from sklearn.mixture import GaussianMixture as GMM\n",
    "import sklearn.metrics as metrics"
   ]
  },
  {
   "cell_type": "code",
   "execution_count": 2,
   "id": "41cd5a7e-87f7-45af-8d68-1f189dde6bc5",
   "metadata": {},
   "outputs": [
    {
     "data": {
      "text/html": [
       "<div>\n",
       "<style scoped>\n",
       "    .dataframe tbody tr th:only-of-type {\n",
       "        vertical-align: middle;\n",
       "    }\n",
       "\n",
       "    .dataframe tbody tr th {\n",
       "        vertical-align: top;\n",
       "    }\n",
       "\n",
       "    .dataframe thead th {\n",
       "        text-align: right;\n",
       "    }\n",
       "</style>\n",
       "<table border=\"1\" class=\"dataframe\">\n",
       "  <thead>\n",
       "    <tr style=\"text-align: right;\">\n",
       "      <th></th>\n",
       "      <th>Id</th>\n",
       "      <th>Name</th>\n",
       "      <th>Short description</th>\n",
       "      <th>Gender</th>\n",
       "      <th>Country</th>\n",
       "      <th>Occupation</th>\n",
       "      <th>Birth year</th>\n",
       "      <th>Death year</th>\n",
       "      <th>Manner of death</th>\n",
       "      <th>Age of death</th>\n",
       "    </tr>\n",
       "  </thead>\n",
       "  <tbody>\n",
       "    <tr>\n",
       "      <th>0</th>\n",
       "      <td>Q23</td>\n",
       "      <td>George Washington</td>\n",
       "      <td>1st president of the United States (1732–1799)</td>\n",
       "      <td>Male</td>\n",
       "      <td>United States of America; Kingdom of Great Bri...</td>\n",
       "      <td>Politician</td>\n",
       "      <td>1732</td>\n",
       "      <td>1799.0</td>\n",
       "      <td>natural causes</td>\n",
       "      <td>67.0</td>\n",
       "    </tr>\n",
       "    <tr>\n",
       "      <th>1</th>\n",
       "      <td>Q42</td>\n",
       "      <td>Douglas Adams</td>\n",
       "      <td>English writer and humorist</td>\n",
       "      <td>Male</td>\n",
       "      <td>United Kingdom</td>\n",
       "      <td>Artist</td>\n",
       "      <td>1952</td>\n",
       "      <td>2001.0</td>\n",
       "      <td>natural causes</td>\n",
       "      <td>49.0</td>\n",
       "    </tr>\n",
       "    <tr>\n",
       "      <th>2</th>\n",
       "      <td>Q91</td>\n",
       "      <td>Abraham Lincoln</td>\n",
       "      <td>16th president of the United States (1809-1865)</td>\n",
       "      <td>Male</td>\n",
       "      <td>United States of America</td>\n",
       "      <td>Politician</td>\n",
       "      <td>1809</td>\n",
       "      <td>1865.0</td>\n",
       "      <td>homicide</td>\n",
       "      <td>56.0</td>\n",
       "    </tr>\n",
       "    <tr>\n",
       "      <th>3</th>\n",
       "      <td>Q254</td>\n",
       "      <td>Wolfgang Amadeus Mozart</td>\n",
       "      <td>Austrian composer of the Classical period</td>\n",
       "      <td>Male</td>\n",
       "      <td>Archduchy of Austria; Archbishopric of Salzburg</td>\n",
       "      <td>Artist</td>\n",
       "      <td>1756</td>\n",
       "      <td>1791.0</td>\n",
       "      <td>NaN</td>\n",
       "      <td>35.0</td>\n",
       "    </tr>\n",
       "    <tr>\n",
       "      <th>4</th>\n",
       "      <td>Q255</td>\n",
       "      <td>Ludwig van Beethoven</td>\n",
       "      <td>German classical and romantic composer</td>\n",
       "      <td>Male</td>\n",
       "      <td>Holy Roman Empire; Austrian Empire</td>\n",
       "      <td>Artist</td>\n",
       "      <td>1770</td>\n",
       "      <td>1827.0</td>\n",
       "      <td>NaN</td>\n",
       "      <td>57.0</td>\n",
       "    </tr>\n",
       "  </tbody>\n",
       "</table>\n",
       "</div>"
      ],
      "text/plain": [
       "     Id                     Name  \\\n",
       "0   Q23        George Washington   \n",
       "1   Q42            Douglas Adams   \n",
       "2   Q91          Abraham Lincoln   \n",
       "3  Q254  Wolfgang Amadeus Mozart   \n",
       "4  Q255     Ludwig van Beethoven   \n",
       "\n",
       "                                 Short description Gender  \\\n",
       "0   1st president of the United States (1732–1799)   Male   \n",
       "1                      English writer and humorist   Male   \n",
       "2  16th president of the United States (1809-1865)   Male   \n",
       "3        Austrian composer of the Classical period   Male   \n",
       "4           German classical and romantic composer   Male   \n",
       "\n",
       "                                             Country  Occupation  Birth year  \\\n",
       "0  United States of America; Kingdom of Great Bri...  Politician        1732   \n",
       "1                                     United Kingdom      Artist        1952   \n",
       "2                           United States of America  Politician        1809   \n",
       "3    Archduchy of Austria; Archbishopric of Salzburg      Artist        1756   \n",
       "4                 Holy Roman Empire; Austrian Empire      Artist        1770   \n",
       "\n",
       "   Death year Manner of death  Age of death  \n",
       "0      1799.0  natural causes          67.0  \n",
       "1      2001.0  natural causes          49.0  \n",
       "2      1865.0        homicide          56.0  \n",
       "3      1791.0             NaN          35.0  \n",
       "4      1827.0             NaN          57.0  "
      ]
     },
     "execution_count": 2,
     "metadata": {},
     "output_type": "execute_result"
    }
   ],
   "source": [
    "age_df = pd.read_csv('AgeDataset-V1.csv')\n",
    "age_df.head()"
   ]
  },
  {
   "cell_type": "code",
   "execution_count": 4,
   "id": "5f9f5c0f-3ed5-48ea-ab88-3f5a0b7d0c57",
   "metadata": {},
   "outputs": [
    {
     "data": {
      "text/plain": [
       "natural causes                    33532\n",
       "suicide                            5814\n",
       "accident                           5044\n",
       "homicide                           4692\n",
       "capital punishment                 3415\n",
       "                                  ...  \n",
       "suicide; substance abuse              1\n",
       "occupational injury                   1\n",
       "shooting                              1\n",
       "capital punishment; auto-da-fé        1\n",
       "stomach cancer                        1\n",
       "Name: Manner of death, Length: 206, dtype: int64"
      ]
     },
     "execution_count": 4,
     "metadata": {},
     "output_type": "execute_result"
    }
   ],
   "source": [
    "age_df['Manner of death'].value_counts()"
   ]
  },
  {
   "cell_type": "code",
   "execution_count": 15,
   "id": "6c8d3199-411c-4ea0-bdab-40764ef971ea",
   "metadata": {},
   "outputs": [
    {
     "data": {
      "text/html": [
       "<div>\n",
       "<style scoped>\n",
       "    .dataframe tbody tr th:only-of-type {\n",
       "        vertical-align: middle;\n",
       "    }\n",
       "\n",
       "    .dataframe tbody tr th {\n",
       "        vertical-align: top;\n",
       "    }\n",
       "\n",
       "    .dataframe thead th {\n",
       "        text-align: right;\n",
       "    }\n",
       "</style>\n",
       "<table border=\"1\" class=\"dataframe\">\n",
       "  <thead>\n",
       "    <tr style=\"text-align: right;\">\n",
       "      <th></th>\n",
       "      <th>Id</th>\n",
       "      <th>Name</th>\n",
       "      <th>Short description</th>\n",
       "      <th>Gender</th>\n",
       "      <th>Country</th>\n",
       "      <th>Occupation</th>\n",
       "      <th>Birth year</th>\n",
       "      <th>Death year</th>\n",
       "      <th>Manner of death</th>\n",
       "      <th>Age of death</th>\n",
       "    </tr>\n",
       "  </thead>\n",
       "  <tbody>\n",
       "    <tr>\n",
       "      <th>14</th>\n",
       "      <td>Q352</td>\n",
       "      <td>Adolf Hitler</td>\n",
       "      <td>Austrian-born German politician, chancellor an...</td>\n",
       "      <td>Male</td>\n",
       "      <td>Nazi Germany; Austria-Hungary; Weimar Republic...</td>\n",
       "      <td>Statesperson</td>\n",
       "      <td>1889.0</td>\n",
       "      <td>1945.0</td>\n",
       "      <td>suicide</td>\n",
       "      <td>56.0</td>\n",
       "    </tr>\n",
       "    <tr>\n",
       "      <th>23</th>\n",
       "      <td>Q440</td>\n",
       "      <td>Salvador Allende</td>\n",
       "      <td>28th president of Chile (1908–1973)</td>\n",
       "      <td>Male</td>\n",
       "      <td>Chile</td>\n",
       "      <td>Politician</td>\n",
       "      <td>1908.0</td>\n",
       "      <td>1973.0</td>\n",
       "      <td>suicide</td>\n",
       "      <td>65.0</td>\n",
       "    </tr>\n",
       "    <tr>\n",
       "      <th>131</th>\n",
       "      <td>Q1322</td>\n",
       "      <td>José Manuel Balmaceda</td>\n",
       "      <td>Chilean politician and President (1840-1891)</td>\n",
       "      <td>Male</td>\n",
       "      <td>Chile</td>\n",
       "      <td>Politician</td>\n",
       "      <td>1840.0</td>\n",
       "      <td>1891.0</td>\n",
       "      <td>suicide</td>\n",
       "      <td>51.0</td>\n",
       "    </tr>\n",
       "    <tr>\n",
       "      <th>189</th>\n",
       "      <td>Q2022</td>\n",
       "      <td>Cesare Pavese</td>\n",
       "      <td>Italian poet, novelist, literary critic, and t...</td>\n",
       "      <td>Male</td>\n",
       "      <td>Italy; Kingdom of Italy</td>\n",
       "      <td>Researcher</td>\n",
       "      <td>1908.0</td>\n",
       "      <td>1950.0</td>\n",
       "      <td>suicide</td>\n",
       "      <td>42.0</td>\n",
       "    </tr>\n",
       "    <tr>\n",
       "      <th>323</th>\n",
       "      <td>Q4616</td>\n",
       "      <td>Marilyn Monroe</td>\n",
       "      <td>American actress, model, and singer (1926-1962)</td>\n",
       "      <td>Female</td>\n",
       "      <td>United States of America</td>\n",
       "      <td>Artist</td>\n",
       "      <td>1926.0</td>\n",
       "      <td>1962.0</td>\n",
       "      <td>suicide</td>\n",
       "      <td>36.0</td>\n",
       "    </tr>\n",
       "  </tbody>\n",
       "</table>\n",
       "</div>"
      ],
      "text/plain": [
       "        Id                   Name  \\\n",
       "14    Q352           Adolf Hitler   \n",
       "23    Q440       Salvador Allende   \n",
       "131  Q1322  José Manuel Balmaceda   \n",
       "189  Q2022          Cesare Pavese   \n",
       "323  Q4616         Marilyn Monroe   \n",
       "\n",
       "                                     Short description  Gender  \\\n",
       "14   Austrian-born German politician, chancellor an...    Male   \n",
       "23                 28th president of Chile (1908–1973)    Male   \n",
       "131       Chilean politician and President (1840-1891)    Male   \n",
       "189  Italian poet, novelist, literary critic, and t...    Male   \n",
       "323    American actress, model, and singer (1926-1962)  Female   \n",
       "\n",
       "                                               Country    Occupation  \\\n",
       "14   Nazi Germany; Austria-Hungary; Weimar Republic...  Statesperson   \n",
       "23                                               Chile    Politician   \n",
       "131                                              Chile    Politician   \n",
       "189                            Italy; Kingdom of Italy    Researcher   \n",
       "323                           United States of America        Artist   \n",
       "\n",
       "     Birth year  Death year Manner of death  Age of death  \n",
       "14       1889.0      1945.0         suicide          56.0  \n",
       "23       1908.0      1973.0         suicide          65.0  \n",
       "131      1840.0      1891.0         suicide          51.0  \n",
       "189      1908.0      1950.0         suicide          42.0  \n",
       "323      1926.0      1962.0         suicide          36.0  "
      ]
     },
     "execution_count": 15,
     "metadata": {},
     "output_type": "execute_result"
    }
   ],
   "source": [
    "suicide_df = age_df.loc[age_df['Manner of death'] == 'suicide']\n",
    "suicide_df = suicide_df.where(suicide_df['Birth year'] > 1800)\n",
    "suicide_df = suicide_df.dropna()\n",
    "suicide_df.head()"
   ]
  },
  {
   "cell_type": "code",
   "execution_count": 58,
   "id": "93b8e454-cfff-4b56-8e4d-1de8a2817add",
   "metadata": {},
   "outputs": [
    {
     "data": {
      "text/plain": [
       "(0.0, 100.0)"
      ]
     },
     "execution_count": 58,
     "metadata": {},
     "output_type": "execute_result"
    },
    {
     "data": {
      "image/png": "[encoded data removed]",
      "text/plain": [
       "<Figure size 432x288 with 1 Axes>"
      ]
     },
     "metadata": {
      "needs_background": "light"
     },
     "output_type": "display_data"
    }
   ],
   "source": [
    "suicide_df.hist('Age of death', bins = 20)\n",
    "plt.title('Age of death (suicide)')\n",
    "plt.xlabel('Age')\n",
    "plt.ylabel('Frequency')\n",
    "plt.xlim(xmin=0, xmax = 100)"
   ]
  },
  {
   "cell_type": "code",
   "execution_count": null,
   "id": "8ac8212a-037b-43a2-b350-e5726559d954",
   "metadata": {},
   "outputs": [
    {
     "data": {
      "text/plain": [
       "(0.0, 100.0)"
      ]
     },
     "execution_count": 59,
     "metadata": {},
     "output_type": "execute_result"
    }
   ],
   "source": [
    "age_df.hist('Age of death', bins = 20)\n",
    "plt.xlabel('Age')\n",
    "plt.ylabel('Frequency')\n",
    "plt.xlim(xmin=0, xmax = 100)"
   ]
  },
  {
   "cell_type": "code",
   "execution_count": 29,
   "id": "fa34ced8-ba89-4aba-8651-383c24ea038d",
   "metadata": {},
   "outputs": [
    {
     "data": {
      "text/plain": [
       "Text(0.5, 1.0, 'Suicide occurences by birth year')"
      ]
     },
     "execution_count": 29,
     "metadata": {},
     "output_type": "execute_result"
    },
    {
     "data": {
      "image/png": "[encoded data removed]",
      "text/plain": [
       "<Figure size 432x288 with 1 Axes>"
      ]
     },
     "metadata": {
      "needs_background": "light"
     },
     "output_type": "display_data"
    }
   ],
   "source": [
    "suicide_df.plot.scatter(x='Birth year', y='Age of death')\n",
    "plt.title('Suicide occurences by birth year')"
   ]
  },
  {
   "cell_type": "code",
   "execution_count": 30,
   "id": "b51d64ca-3883-4884-a6d9-4d1e45f9656b",
   "metadata": {},
   "outputs": [
    {
     "data": {
      "text/plain": [
       "Text(0.5, 1.0, 'Suicide occurences by death year')"
      ]
     },
     "execution_count": 30,
     "metadata": {},
     "output_type": "execute_result"
    },
    {
     "data": {
      "image/png": "[encoded data removed]",
      "text/plain": [
       "<Figure size 432x288 with 1 Axes>"
      ]
     },
     "metadata": {
      "needs_background": "light"
     },
     "output_type": "display_data"
    }
   ],
   "source": [
    "suicide_df.plot.scatter(x='Death year', y='Age of death')\n",
    "plt.title('Suicide occurences by death year')"
   ]
  },
  {
   "cell_type": "code",
   "execution_count": 42,
   "id": "f5e000a7-8204-4738-8578-be1636bbf952",
   "metadata": {},
   "outputs": [
    {
     "data": {
      "text/plain": [
       "Artist                                             1731\n",
       "Politician                                          580\n",
       "Athlete                                             497\n",
       "Military personnel                                  245\n",
       "Researcher                                          244\n",
       "                                                   ... \n",
       "Dissident                                             1\n",
       "Psychiatrist; philosopher                             1\n",
       "Organ builder; musical instrument maker               1\n",
       "Naval officer; explorer; colonial administrator       1\n",
       "Settler                                               1\n",
       "Name: Occupation, Length: 312, dtype: int64"
      ]
     },
     "execution_count": 42,
     "metadata": {},
     "output_type": "execute_result"
    }
   ],
   "source": [
    "suicide_df['Occupation'].value_counts()"
   ]
  },
  {
   "cell_type": "code",
   "execution_count": 27,
   "id": "54642132-8f42-4f8c-a402-41551665c495",
   "metadata": {},
   "outputs": [
    {
     "data": {
      "text/plain": [
       "Artist                     281512\n",
       "Politician                 195390\n",
       "Athlete                    110943\n",
       "Researcher                  90709\n",
       "Military personnel          52911\n",
       "                            ...  \n",
       "Socialite; heiress              1\n",
       "Biologist; explorer             1\n",
       "Perfumer; art collector         1\n",
       "Condottiero; magistrate         1\n",
       "Tailor; model                   1\n",
       "Name: Occupation, Length: 9313, dtype: int64"
      ]
     },
     "execution_count": 27,
     "metadata": {},
     "output_type": "execute_result"
    }
   ],
   "source": [
    "age_df['Occupation'].value_counts()"
   ]
  },
  {
   "cell_type": "code",
   "execution_count": 33,
   "id": "577dbcb1-3724-42fd-9a02-4184912546b4",
   "metadata": {},
   "outputs": [
    {
     "data": {
      "text/plain": [
       "3554"
      ]
     },
     "execution_count": 33,
     "metadata": {},
     "output_type": "execute_result"
    }
   ],
   "source": [
    "suicide_df['Gender'].value_counts()"
   ]
  },
  {
   "cell_type": "code",
   "execution_count": 37,
   "id": "7c112011-b5b2-4eb3-a4fd-0133533aa002",
   "metadata": {},
   "outputs": [
    {
     "name": "stdout",
     "output_type": "stream",
     "text": [
      "5.6864\n"
     ]
    }
   ],
   "source": [
    "suicide_gender_ratio = suicide_df['Gender'].value_counts()['Male']/suicide_df['Gender'].value_counts()['Female']\n",
    "print(suicide_gender_ratio)"
   ]
  },
  {
   "cell_type": "code",
   "execution_count": 32,
   "id": "9be868bd-4320-435c-ba6d-8f9c474b85c2",
   "metadata": {},
   "outputs": [
    {
     "data": {
      "text/plain": [
       "Male                                              981365\n",
       "Female                                            107830\n",
       "Transgender Female                                    79\n",
       "Transgender Male                                      36\n",
       "Eunuch; Male                                          18\n",
       "Intersex                                               7\n",
       "Female; Male                                           7\n",
       "Eunuch                                                 3\n",
       "Transgender Male; Female                               3\n",
       "Intersex; Female                                       2\n",
       "Non-Binary                                             2\n",
       "Intersex; Male                                         2\n",
       "Transgender Female; Male                               2\n",
       "Female; Female                                         1\n",
       "Transgender Female; Intersex                           1\n",
       "Transgender Female; Female                             1\n",
       "Transgender Male; Male                                 1\n",
       "Intersex; Transgender Male                             1\n",
       "Transgender Person; Intersex; Transgender Male         1\n",
       "Non-Binary; Intersex                                   1\n",
       "Name: Gender, dtype: int64"
      ]
     },
     "execution_count": 32,
     "metadata": {},
     "output_type": "execute_result"
    }
   ],
   "source": [
    "age_df['Gender'].value_counts()"
   ]
  },
  {
   "cell_type": "code",
   "execution_count": 38,
   "id": "82b1be74-b723-4867-aa4e-9974a9c97a6f",
   "metadata": {},
   "outputs": [
    {
     "name": "stdout",
     "output_type": "stream",
     "text": [
      "9.101038671983678\n"
     ]
    }
   ],
   "source": [
    "age_gender_ratio = age_df['Gender'].value_counts()['Male'] / age_df['Gender'].value_counts()['Female']\n",
    "print(age_gender_ratio)"
   ]
  },
  {
   "cell_type": "code",
   "execution_count": 48,
   "id": "60e5c83b-d649-4516-abef-afcbce387f72",
   "metadata": {},
   "outputs": [
    {
     "data": {
      "text/plain": [
       "United States of America                     1111\n",
       "Germany                                       328\n",
       "France                                        310\n",
       "United Kingdom                                174\n",
       "Japan                                         125\n",
       "                                             ... \n",
       "France; Israel                                  1\n",
       "Estonia; Soviet Union; Russian Empire           1\n",
       "United States of America; Austria-Hungary       1\n",
       "Northern Ireland; Ireland                       1\n",
       "Trinidad and Tobago                             1\n",
       "Name: Country, Length: 325, dtype: int64"
      ]
     },
     "execution_count": 48,
     "metadata": {},
     "output_type": "execute_result"
    }
   ],
   "source": [
    "suicide_df['Country'].value_counts()"
   ]
  },
  {
   "cell_type": "code",
   "execution_count": 46,
   "id": "c2775388-1fe8-4d22-926a-5baece7a662d",
   "metadata": {},
   "outputs": [
    {
     "data": {
      "text/plain": [
       "United States of America                                       152761\n",
       "Germany                                                         95081\n",
       "France                                                          78666\n",
       "United Kingdom; United Kingdom of Great Britain and Ireland     29684\n",
       "Sweden                                                          26915\n",
       "                                                                ...  \n",
       "Nazi Germany; Socialist Federal Republic of Yugoslavia              1\n",
       "Lithuania; Belarus                                                  1\n",
       "Spain; Kingdom of England                                           1\n",
       "France; United Kingdom; Russian Empire                              1\n",
       "El Salvador; British Empire                                         1\n",
       "Name: Country, Length: 5961, dtype: int64"
      ]
     },
     "execution_count": 46,
     "metadata": {},
     "output_type": "execute_result"
    }
   ],
   "source": [
    "age_df['Country'].value_counts()"
   ]
  },
  {
   "cell_type": "code",
   "execution_count": null,
   "id": "ebef86a9-7401-411a-a71c-48d7318ddcdd",
   "metadata": {},
   "outputs": [],
   "source": []
  }
 ],
 "metadata": {
  "kernelspec": {
   "display_name": "Python 3 (ipykernel)",
   "language": "python",
   "name": "python3"
  },
  "language_info": {
   "codemirror_mode": {
    "name": "ipython",
    "version": 3
   },
   "file_extension": ".py",
   "mimetype": "text/x-python",
   "name": "python",
   "nbconvert_exporter": "python",
   "pygments_lexer": "ipython3",
   "version": "3.9.6"
  }
 },
 "nbformat": 4,
 "nbformat_minor": 5
}
